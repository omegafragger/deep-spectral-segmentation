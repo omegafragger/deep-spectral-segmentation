{
 "cells": [
  {
   "cell_type": "code",
   "execution_count": 1,
   "id": "52a0b15b-f4e5-45e0-91cd-baea65cbf45c",
   "metadata": {},
   "outputs": [],
   "source": [
    "from functools import partial\n",
    "from pathlib import Path\n",
    "from typing import Optional, Tuple\n",
    "\n",
    "import cv2\n",
    "import fire\n",
    "import numpy as np\n",
    "import torch\n",
    "import torch.nn.functional as F\n",
    "from accelerate import Accelerator\n",
    "from PIL import Image\n",
    "from scipy.sparse.linalg import eigsh\n",
    "from sklearn.cluster import KMeans, MiniBatchKMeans\n",
    "from sklearn.decomposition import PCA\n",
    "from torchvision.utils import draw_bounding_boxes\n",
    "from tqdm import tqdm\n",
    "\n",
    "import extract_utils as utils\n",
    "\n",
    "from clip import clip"
   ]
  },
  {
   "cell_type": "code",
   "execution_count": 4,
   "id": "3dd2a260-cc98-4c28-aa89-ff5593e7ace3",
   "metadata": {},
   "outputs": [],
   "source": [
    "# Contains inputs to the extract_features method\n",
    "class args:\n",
    "    images_list = '/data/home/mukhotij/internship_2022/deep_spectral/data/VOC2012/lists/images.txt'\n",
    "    images_root = '/data/home/mukhotij/internship_2022/deep_spectral/data/VOC2012/images'\n",
    "    output_dir = '/data/home/mukhotij/internship_2022/deep_spectral/data/VOC2012/features/clip_vitb16'\n",
    "    model_name = 'clip_vitb16'\n",
    "    batch_size = 1\n",
    "    which_block = -1"
   ]
  },
  {
   "cell_type": "code",
   "execution_count": 5,
   "id": "48131133-6646-4986-a26f-7bd26275605b",
   "metadata": {},
   "outputs": [],
   "source": [
    "# Create output directory\n",
    "\n",
    "utils.make_output_dir(args.output_dir)"
   ]
  },
  {
   "cell_type": "code",
   "execution_count": 6,
   "id": "5d81fe4c-ec92-42a7-9cca-aed637805b2e",
   "metadata": {},
   "outputs": [
    {
     "name": "stdout",
     "output_type": "stream",
     "text": [
      "clip_vitb16\n"
     ]
    }
   ],
   "source": [
    "# Load model\n",
    "\n",
    "model_name = args.model_name.lower()"
   ]
  },
  {
   "cell_type": "code",
   "execution_count": null,
   "id": "b47cc688-471c-4981-abb9-0e8318dc2bb4",
   "metadata": {},
   "outputs": [],
   "source": []
  }
 ],
 "metadata": {
  "kernelspec": {
   "display_name": "Python 3 (ipykernel)",
   "language": "python",
   "name": "python3"
  },
  "language_info": {
   "codemirror_mode": {
    "name": "ipython",
    "version": 3
   },
   "file_extension": ".py",
   "mimetype": "text/x-python",
   "name": "python",
   "nbconvert_exporter": "python",
   "pygments_lexer": "ipython3",
   "version": "3.8.10"
  }
 },
 "nbformat": 4,
 "nbformat_minor": 5
}
